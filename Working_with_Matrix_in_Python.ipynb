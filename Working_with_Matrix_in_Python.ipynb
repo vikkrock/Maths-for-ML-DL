{
  "nbformat": 4,
  "nbformat_minor": 0,
  "metadata": {
    "colab": {
      "provenance": [],
      "authorship_tag": "ABX9TyOTO93hfFJKeLKzarZUVEWh",
      "include_colab_link": true
    },
    "kernelspec": {
      "name": "python3",
      "display_name": "Python 3"
    },
    "language_info": {
      "name": "python"
    }
  },
  "cells": [
    {
      "cell_type": "markdown",
      "metadata": {
        "id": "view-in-github",
        "colab_type": "text"
      },
      "source": [
        "<a href=\"https://colab.research.google.com/github/vikkrock/Maths-for-ML-DL/blob/main/Working_with_Matrix_in_Python.ipynb\" target=\"_parent\"><img src=\"https://colab.research.google.com/assets/colab-badge.svg\" alt=\"Open In Colab\"/></a>"
      ]
    },
    {
      "cell_type": "markdown",
      "source": [
        "### **Importing Dependencies**"
      ],
      "metadata": {
        "id": "aU-0h3kIbbgR"
      }
    },
    {
      "cell_type": "code",
      "execution_count": 1,
      "metadata": {
        "id": "zRWZ9aomSCQV"
      },
      "outputs": [],
      "source": [
        "import numpy as np"
      ]
    },
    {
      "cell_type": "markdown",
      "source": [
        "### **Creating Matrix using Numpy**"
      ],
      "metadata": {
        "id": "CttAFmXRbxjq"
      }
    },
    {
      "cell_type": "code",
      "source": [
        "matrix1=np.array([[2,3],[6,7]])\n",
        "print(matrix1)"
      ],
      "metadata": {
        "colab": {
          "base_uri": "https://localhost:8080/"
        },
        "id": "Reuy2RaybqQE",
        "outputId": "bc4d4b31-4f4a-485e-eff8-a237cfa50785"
      },
      "execution_count": 3,
      "outputs": [
        {
          "output_type": "stream",
          "name": "stdout",
          "text": [
            "[[2 3]\n",
            " [6 7]]\n"
          ]
        }
      ]
    },
    {
      "cell_type": "code",
      "source": [
        "matrix1.shape"
      ],
      "metadata": {
        "colab": {
          "base_uri": "https://localhost:8080/"
        },
        "id": "V2b6AyEwcLCd",
        "outputId": "519328ba-875e-4b0a-995a-b43b928e7dcb"
      },
      "execution_count": 4,
      "outputs": [
        {
          "output_type": "execute_result",
          "data": {
            "text/plain": [
              "(2, 2)"
            ]
          },
          "metadata": {},
          "execution_count": 4
        }
      ]
    },
    {
      "cell_type": "code",
      "source": [
        "matrix2=np.array([[10,35,45],[50,64,80],[20,15,90]])"
      ],
      "metadata": {
        "id": "PUcc1oGXfBek"
      },
      "execution_count": 6,
      "outputs": []
    },
    {
      "cell_type": "code",
      "source": [
        "print(matrix2)"
      ],
      "metadata": {
        "colab": {
          "base_uri": "https://localhost:8080/"
        },
        "id": "vcyzvoYIfQqh",
        "outputId": "ccc6cec9-436e-46f5-9f80-4ce128cd073f"
      },
      "execution_count": 7,
      "outputs": [
        {
          "output_type": "stream",
          "name": "stdout",
          "text": [
            "[[10 35 45]\n",
            " [50 64 80]\n",
            " [20 15 90]]\n"
          ]
        }
      ]
    },
    {
      "cell_type": "code",
      "source": [
        "matrix2.shape"
      ],
      "metadata": {
        "colab": {
          "base_uri": "https://localhost:8080/"
        },
        "id": "r-C82KyvfVR4",
        "outputId": "f9241ec5-a35d-468f-8c7a-a415e925773c"
      },
      "execution_count": 8,
      "outputs": [
        {
          "output_type": "execute_result",
          "data": {
            "text/plain": [
              "(3, 3)"
            ]
          },
          "metadata": {},
          "execution_count": 8
        }
      ]
    },
    {
      "cell_type": "markdown",
      "source": [
        "### **Creating matrix with Random values**"
      ],
      "metadata": {
        "id": "2wcMZTS2fdYS"
      }
    },
    {
      "cell_type": "code",
      "source": [
        "random_mat=np.random.rand(3,3)\n",
        "print(random_mat)"
      ],
      "metadata": {
        "colab": {
          "base_uri": "https://localhost:8080/"
        },
        "id": "abbGx5aFfZZL",
        "outputId": "eb331d3a-2b1e-44ed-9a81-945e5e3b4d49"
      },
      "execution_count": 11,
      "outputs": [
        {
          "output_type": "stream",
          "name": "stdout",
          "text": [
            "[[0.207136   0.17316865 0.08401454]\n",
            " [0.28009149 0.75636719 0.57194006]\n",
            " [0.32724352 0.32988079 0.55199114]]\n"
          ]
        }
      ]
    },
    {
      "cell_type": "code",
      "source": [
        "# Creating matrix with random integer\n",
        "random_mat=np.random.randint(100,size=(4,5))\n",
        "print(random_mat)"
      ],
      "metadata": {
        "colab": {
          "base_uri": "https://localhost:8080/"
        },
        "id": "07A19c5ffxU4",
        "outputId": "d7e1958c-c7fc-40c6-a874-e6b943b91a32"
      },
      "execution_count": 12,
      "outputs": [
        {
          "output_type": "stream",
          "name": "stdout",
          "text": [
            "[[43 88 61 29 41]\n",
            " [76 25 39 49 82]\n",
            " [84 89 47 39 93]\n",
            " [21 65  4 82  1]]\n"
          ]
        }
      ]
    },
    {
      "cell_type": "markdown",
      "source": [
        "### **Matrix with all the values as 1**"
      ],
      "metadata": {
        "id": "0RAiKOOIgMJe"
      }
    },
    {
      "cell_type": "code",
      "source": [
        "matrix_3=np.ones((2,3),dtype=int)\n",
        "print(matrix_3)"
      ],
      "metadata": {
        "colab": {
          "base_uri": "https://localhost:8080/"
        },
        "id": "2CcwY2gzgKA3",
        "outputId": "abbb2627-8661-4bd7-f821-8e5184025bf3"
      },
      "execution_count": 14,
      "outputs": [
        {
          "output_type": "stream",
          "name": "stdout",
          "text": [
            "[[1 1 1]\n",
            " [1 1 1]]\n"
          ]
        }
      ]
    },
    {
      "cell_type": "code",
      "source": [
        "matrix_3=np.ones((9,5),dtype=int)\n",
        "print(matrix_3)"
      ],
      "metadata": {
        "colab": {
          "base_uri": "https://localhost:8080/"
        },
        "id": "UrpR3ptrgfqC",
        "outputId": "6ee0ca19-f5f5-4bcc-8da6-5ecc7bc3bada"
      },
      "execution_count": 15,
      "outputs": [
        {
          "output_type": "stream",
          "name": "stdout",
          "text": [
            "[[1 1 1 1 1]\n",
            " [1 1 1 1 1]\n",
            " [1 1 1 1 1]\n",
            " [1 1 1 1 1]\n",
            " [1 1 1 1 1]\n",
            " [1 1 1 1 1]\n",
            " [1 1 1 1 1]\n",
            " [1 1 1 1 1]\n",
            " [1 1 1 1 1]]\n"
          ]
        }
      ]
    },
    {
      "cell_type": "markdown",
      "source": [
        "### **Null Matrix or Zero Matrix**"
      ],
      "metadata": {
        "id": "p52CfxcVguPM"
      }
    },
    {
      "cell_type": "code",
      "source": [
        "null_mat=np.zeros(shape=(7,7),dtype=int)\n",
        "print(null_mat)"
      ],
      "metadata": {
        "colab": {
          "base_uri": "https://localhost:8080/"
        },
        "id": "QSF24K4Lgs7u",
        "outputId": "8a766444-2ea2-4047-c111-8c3dfb3477d9"
      },
      "execution_count": 19,
      "outputs": [
        {
          "output_type": "stream",
          "name": "stdout",
          "text": [
            "[[0 0 0 0 0 0 0]\n",
            " [0 0 0 0 0 0 0]\n",
            " [0 0 0 0 0 0 0]\n",
            " [0 0 0 0 0 0 0]\n",
            " [0 0 0 0 0 0 0]\n",
            " [0 0 0 0 0 0 0]\n",
            " [0 0 0 0 0 0 0]]\n"
          ]
        }
      ]
    },
    {
      "cell_type": "markdown",
      "source": [
        "### **Identity Matrix**"
      ],
      "metadata": {
        "id": "3u19a81shW4l"
      }
    },
    {
      "cell_type": "code",
      "source": [
        "identity_mat=np.eye(3,3,dtype=int)\n",
        "print(identity_mat)"
      ],
      "metadata": {
        "colab": {
          "base_uri": "https://localhost:8080/"
        },
        "id": "J-zg16suhfVb",
        "outputId": "ebc0cdf6-4a1f-4628-cacf-5ba2cb9e44d6"
      },
      "execution_count": 22,
      "outputs": [
        {
          "output_type": "stream",
          "name": "stdout",
          "text": [
            "[[1 0 0]\n",
            " [0 1 0]\n",
            " [0 0 1]]\n"
          ]
        }
      ]
    },
    {
      "cell_type": "markdown",
      "source": [
        "### **Transpose of Matrix**"
      ],
      "metadata": {
        "id": "7IZ4NBlfh7DS"
      }
    },
    {
      "cell_type": "code",
      "source": [
        "# matrix with Random integer values\n",
        "a=np.random.randint(100,size=(4,5))\n",
        "print(a)"
      ],
      "metadata": {
        "colab": {
          "base_uri": "https://localhost:8080/"
        },
        "id": "mpoConEch3kO",
        "outputId": "a2b738f7-afc1-4851-984c-c1cc3afbf4ff"
      },
      "execution_count": 23,
      "outputs": [
        {
          "output_type": "stream",
          "name": "stdout",
          "text": [
            "[[72 85 73 13 90]\n",
            " [52 98 75  9 91]\n",
            " [98 74 48 99 17]\n",
            " [84 51 14 82 44]]\n"
          ]
        }
      ]
    },
    {
      "cell_type": "code",
      "source": [
        "transpose_a=np.transpose(a)\n",
        "print(transpose_a)"
      ],
      "metadata": {
        "colab": {
          "base_uri": "https://localhost:8080/"
        },
        "id": "LKYCO1GOiVEo",
        "outputId": "9c9afa04-eedc-4d9b-da0b-e40155feca65"
      },
      "execution_count": 24,
      "outputs": [
        {
          "output_type": "stream",
          "name": "stdout",
          "text": [
            "[[72 52 98 84]\n",
            " [85 98 74 51]\n",
            " [73 75 48 14]\n",
            " [13  9 99 82]\n",
            " [90 91 17 44]]\n"
          ]
        }
      ]
    },
    {
      "cell_type": "code",
      "source": [
        "b=a.T\n",
        "print(b)"
      ],
      "metadata": {
        "colab": {
          "base_uri": "https://localhost:8080/"
        },
        "id": "j7YALiK1iqqk",
        "outputId": "83b2e728-d1e5-4b4e-cdf9-b1948917fe36"
      },
      "execution_count": 27,
      "outputs": [
        {
          "output_type": "stream",
          "name": "stdout",
          "text": [
            "[[72 52 98 84]\n",
            " [85 98 74 51]\n",
            " [73 75 48 14]\n",
            " [13  9 99 82]\n",
            " [90 91 17 44]]\n"
          ]
        }
      ]
    },
    {
      "cell_type": "markdown",
      "source": [
        "### **Matrix Addition**\n",
        "Two matrix that can be added only if they have same shape only"
      ],
      "metadata": {
        "id": "UKLkabvTm1zU"
      }
    },
    {
      "cell_type": "code",
      "source": [
        "A=np.array([[2,5],[12,67]])\n",
        "B=np.array([[3,54],[21,45]])\n",
        "print(A)\n",
        "print(B)"
      ],
      "metadata": {
        "colab": {
          "base_uri": "https://localhost:8080/"
        },
        "id": "_A7sdTYUm9Ey",
        "outputId": "1b80f483-13e2-47c2-fb3c-a935cf1cfca8"
      },
      "execution_count": 29,
      "outputs": [
        {
          "output_type": "stream",
          "name": "stdout",
          "text": [
            "[[ 2  5]\n",
            " [12 67]]\n",
            "[[ 3 54]\n",
            " [21 45]]\n"
          ]
        }
      ]
    },
    {
      "cell_type": "code",
      "source": [
        "A.shape"
      ],
      "metadata": {
        "colab": {
          "base_uri": "https://localhost:8080/"
        },
        "id": "2nVHJ4dCnhYN",
        "outputId": "3f9af325-4bb3-446e-9305-ec54d3ada52e"
      },
      "execution_count": 30,
      "outputs": [
        {
          "output_type": "execute_result",
          "data": {
            "text/plain": [
              "(2, 2)"
            ]
          },
          "metadata": {},
          "execution_count": 30
        }
      ]
    },
    {
      "cell_type": "code",
      "source": [
        "B.shape"
      ],
      "metadata": {
        "colab": {
          "base_uri": "https://localhost:8080/"
        },
        "id": "uv4l05COnkqo",
        "outputId": "2aab560c-54db-49b5-bd01-29db610722ab"
      },
      "execution_count": 31,
      "outputs": [
        {
          "output_type": "execute_result",
          "data": {
            "text/plain": [
              "(2, 2)"
            ]
          },
          "metadata": {},
          "execution_count": 31
        }
      ]
    },
    {
      "cell_type": "code",
      "source": [
        "sum=A+B\n",
        "print(sum)"
      ],
      "metadata": {
        "colab": {
          "base_uri": "https://localhost:8080/"
        },
        "id": "KKrH32DMnnaH",
        "outputId": "17af1c74-7875-4f27-d2ab-6696e3c71953"
      },
      "execution_count": 32,
      "outputs": [
        {
          "output_type": "stream",
          "name": "stdout",
          "text": [
            "[[  5  59]\n",
            " [ 33 112]]\n"
          ]
        }
      ]
    },
    {
      "cell_type": "code",
      "source": [
        "# Creating two matrices with random values\n",
        "mat_1=np.random.randint(10,size=(3,3))\n",
        "mat_2=np.random.randint(20,size=(3,3))"
      ],
      "metadata": {
        "id": "uev-0JYsnuBj"
      },
      "execution_count": 33,
      "outputs": []
    },
    {
      "cell_type": "code",
      "source": [
        "print(mat_1)"
      ],
      "metadata": {
        "colab": {
          "base_uri": "https://localhost:8080/"
        },
        "id": "p8WSq-jnoL53",
        "outputId": "d0e1494f-5342-4a85-8560-0c09d55d3992"
      },
      "execution_count": 34,
      "outputs": [
        {
          "output_type": "stream",
          "name": "stdout",
          "text": [
            "[[0 3 2]\n",
            " [5 0 2]\n",
            " [3 0 7]]\n"
          ]
        }
      ]
    },
    {
      "cell_type": "code",
      "source": [
        "print(mat_2)"
      ],
      "metadata": {
        "colab": {
          "base_uri": "https://localhost:8080/"
        },
        "id": "VxOE8s20oPbX",
        "outputId": "576a9280-d1ca-4a0a-bcc0-2fa15b5438ff"
      },
      "execution_count": 35,
      "outputs": [
        {
          "output_type": "stream",
          "name": "stdout",
          "text": [
            "[[17  5 11]\n",
            " [15  2 12]\n",
            " [15 18  0]]\n"
          ]
        }
      ]
    },
    {
      "cell_type": "code",
      "source": [
        "sum=np.add(mat_1,mat_2)"
      ],
      "metadata": {
        "id": "bCPD2BJNoS7l"
      },
      "execution_count": 36,
      "outputs": []
    },
    {
      "cell_type": "code",
      "source": [
        "print(sum)"
      ],
      "metadata": {
        "colab": {
          "base_uri": "https://localhost:8080/"
        },
        "id": "9Sj8YhvFobNA",
        "outputId": "02d47623-43e3-41eb-d14a-1558b6fb32a9"
      },
      "execution_count": 37,
      "outputs": [
        {
          "output_type": "stream",
          "name": "stdout",
          "text": [
            "[[17  8 13]\n",
            " [20  2 14]\n",
            " [18 18  7]]\n"
          ]
        }
      ]
    },
    {
      "cell_type": "code",
      "source": [
        "mat_3=np.random.randint(10,size=(3,3))\n",
        "mat_4=np.random.randint(20,size=(3,4))"
      ],
      "metadata": {
        "id": "-IgaVn4Hocrg"
      },
      "execution_count": 38,
      "outputs": []
    },
    {
      "cell_type": "code",
      "source": [
        "sum=np.add(mat_3,mat_4)"
      ],
      "metadata": {
        "colab": {
          "base_uri": "https://localhost:8080/",
          "height": 141
        },
        "id": "IfVUYjniosN7",
        "outputId": "8a8b9677-c8bb-4af7-ebb8-777f54b7254e"
      },
      "execution_count": 40,
      "outputs": [
        {
          "output_type": "error",
          "ename": "ValueError",
          "evalue": "operands could not be broadcast together with shapes (3,3) (3,4) ",
          "traceback": [
            "\u001b[0;31m---------------------------------------------------------------------------\u001b[0m",
            "\u001b[0;31mValueError\u001b[0m                                Traceback (most recent call last)",
            "\u001b[0;32m<ipython-input-40-3fe67104bec5>\u001b[0m in \u001b[0;36m<cell line: 1>\u001b[0;34m()\u001b[0m\n\u001b[0;32m----> 1\u001b[0;31m \u001b[0msum\u001b[0m\u001b[0;34m=\u001b[0m\u001b[0mnp\u001b[0m\u001b[0;34m.\u001b[0m\u001b[0madd\u001b[0m\u001b[0;34m(\u001b[0m\u001b[0mmat_3\u001b[0m\u001b[0;34m,\u001b[0m\u001b[0mmat_4\u001b[0m\u001b[0;34m)\u001b[0m\u001b[0;34m\u001b[0m\u001b[0;34m\u001b[0m\u001b[0m\n\u001b[0m",
            "\u001b[0;31mValueError\u001b[0m: operands could not be broadcast together with shapes (3,3) (3,4) "
          ]
        }
      ]
    },
    {
      "cell_type": "markdown",
      "source": [
        " **The above we can't get because the shape of the matrix is not same.**\n"
      ],
      "metadata": {
        "id": "QTvT_VA1o1bu"
      }
    },
    {
      "cell_type": "markdown",
      "source": [
        "## **Matrix Substraction**"
      ],
      "metadata": {
        "id": "4noTw4wlpEup"
      }
    },
    {
      "cell_type": "code",
      "source": [
        "mat_1=np.random.randint(10,size=(3,3))\n",
        "mat_2=np.random.randint(20,size=(3,3))"
      ],
      "metadata": {
        "id": "R6REU5g6ozzS"
      },
      "execution_count": 41,
      "outputs": []
    },
    {
      "cell_type": "code",
      "source": [
        "subtract=mat_1-mat_2"
      ],
      "metadata": {
        "id": "yDtzEEfapQtg"
      },
      "execution_count": 42,
      "outputs": []
    },
    {
      "cell_type": "code",
      "source": [
        "print(subtract)"
      ],
      "metadata": {
        "colab": {
          "base_uri": "https://localhost:8080/"
        },
        "id": "RoYN8-ftpVOj",
        "outputId": "3b8265e2-c7a9-4ae7-8499-3266230b5f6f"
      },
      "execution_count": 43,
      "outputs": [
        {
          "output_type": "stream",
          "name": "stdout",
          "text": [
            "[[ -8 -10  -2]\n",
            " [  1   0 -15]\n",
            " [  4  -3  -4]]\n"
          ]
        }
      ]
    },
    {
      "cell_type": "code",
      "source": [
        "diff=np.subtract(mat_1,mat_2)\n",
        "print(diff)"
      ],
      "metadata": {
        "colab": {
          "base_uri": "https://localhost:8080/"
        },
        "id": "C0uuUqNdpcaJ",
        "outputId": "6a7153bd-4e4c-4103-8316-fee9b5deead1"
      },
      "execution_count": 44,
      "outputs": [
        {
          "output_type": "stream",
          "name": "stdout",
          "text": [
            "[[ -8 -10  -2]\n",
            " [  1   0 -15]\n",
            " [  4  -3  -4]]\n"
          ]
        }
      ]
    },
    {
      "cell_type": "markdown",
      "source": [
        "###**Multiplying a Matrix by a Scalar**"
      ],
      "metadata": {
        "id": "EgK4JnjLpp-f"
      }
    },
    {
      "cell_type": "code",
      "source": [
        "x=5\n",
        "y=np.random.randint(15,size=(4,4))\n",
        "mul=np.multiply(x,y)\n",
        "print(mul)"
      ],
      "metadata": {
        "colab": {
          "base_uri": "https://localhost:8080/"
        },
        "id": "yRtwA6q9py2z",
        "outputId": "43330b22-b291-4b1f-b38c-2e693851bd4c"
      },
      "execution_count": 45,
      "outputs": [
        {
          "output_type": "stream",
          "name": "stdout",
          "text": [
            "[[20 25 40 70]\n",
            " [55 65 50  0]\n",
            " [70 20 65 40]\n",
            " [ 5 15 15 70]]\n"
          ]
        }
      ]
    },
    {
      "cell_type": "markdown",
      "source": [
        "### **Multiplying 2 matrices**"
      ],
      "metadata": {
        "id": "0DW93E-SqMEM"
      }
    },
    {
      "cell_type": "code",
      "source": [
        "# Create 2 matrices with random Values\n",
        "mat_1=np.random.randint(10,size=(3,3))\n",
        "mat_2=np.random.randint(20,size=(3,4))\n"
      ],
      "metadata": {
        "id": "GrZzSg0yqS4s"
      },
      "execution_count": 47,
      "outputs": []
    },
    {
      "cell_type": "code",
      "source": [
        "print(mat_1)"
      ],
      "metadata": {
        "colab": {
          "base_uri": "https://localhost:8080/"
        },
        "id": "Om0uHTc-qqgg",
        "outputId": "19141f54-731c-43dc-b816-8e5f384a011f"
      },
      "execution_count": 48,
      "outputs": [
        {
          "output_type": "stream",
          "name": "stdout",
          "text": [
            "[[0 3 6]\n",
            " [9 0 1]\n",
            " [7 2 7]]\n"
          ]
        }
      ]
    },
    {
      "cell_type": "code",
      "source": [
        "print(mat_2)"
      ],
      "metadata": {
        "colab": {
          "base_uri": "https://localhost:8080/"
        },
        "id": "UEf2Q4Kgqtij",
        "outputId": "3269c168-1c98-4df0-96b0-93d267a67b6e"
      },
      "execution_count": 49,
      "outputs": [
        {
          "output_type": "stream",
          "name": "stdout",
          "text": [
            "[[ 1  4 15  6]\n",
            " [ 9  7  2  0]\n",
            " [ 9  1 11  7]]\n"
          ]
        }
      ]
    },
    {
      "cell_type": "code",
      "source": [
        "multi=np.dot(mat_1,mat_2)"
      ],
      "metadata": {
        "id": "WDSmDZR9qwC8"
      },
      "execution_count": 50,
      "outputs": []
    },
    {
      "cell_type": "code",
      "source": [
        "print(multi)"
      ],
      "metadata": {
        "colab": {
          "base_uri": "https://localhost:8080/"
        },
        "id": "HIyRG_8mq3lL",
        "outputId": "cb4c7f5f-5812-4307-8d79-4a57cd0a5598"
      },
      "execution_count": 51,
      "outputs": [
        {
          "output_type": "stream",
          "name": "stdout",
          "text": [
            "[[ 81  27  72  42]\n",
            " [ 18  37 146  61]\n",
            " [ 88  49 186  91]]\n"
          ]
        }
      ]
    },
    {
      "cell_type": "code",
      "source": [
        "multi.shape"
      ],
      "metadata": {
        "colab": {
          "base_uri": "https://localhost:8080/"
        },
        "id": "_LyS7uLVq91q",
        "outputId": "55b50b7c-dc66-4f7d-faa9-3478262d9413"
      },
      "execution_count": 52,
      "outputs": [
        {
          "output_type": "execute_result",
          "data": {
            "text/plain": [
              "(3, 4)"
            ]
          },
          "metadata": {},
          "execution_count": 52
        }
      ]
    },
    {
      "cell_type": "code",
      "source": [
        "pro=np.multiply(mat_1,mat_2) # not possible because it will multiply with same indexes so, shape must be equal"
      ],
      "metadata": {
        "colab": {
          "base_uri": "https://localhost:8080/",
          "height": 141
        },
        "id": "ZSJvnHPhrOWH",
        "outputId": "e7872271-0aaf-4b73-b2d7-f25a0ddf69bb"
      },
      "execution_count": 53,
      "outputs": [
        {
          "output_type": "error",
          "ename": "ValueError",
          "evalue": "operands could not be broadcast together with shapes (3,3) (3,4) ",
          "traceback": [
            "\u001b[0;31m---------------------------------------------------------------------------\u001b[0m",
            "\u001b[0;31mValueError\u001b[0m                                Traceback (most recent call last)",
            "\u001b[0;32m<ipython-input-53-2ea4b3075299>\u001b[0m in \u001b[0;36m<cell line: 1>\u001b[0;34m()\u001b[0m\n\u001b[0;32m----> 1\u001b[0;31m \u001b[0mpro\u001b[0m\u001b[0;34m=\u001b[0m\u001b[0mnp\u001b[0m\u001b[0;34m.\u001b[0m\u001b[0mmultiply\u001b[0m\u001b[0;34m(\u001b[0m\u001b[0mmat_1\u001b[0m\u001b[0;34m,\u001b[0m\u001b[0mmat_2\u001b[0m\u001b[0;34m)\u001b[0m\u001b[0;34m\u001b[0m\u001b[0;34m\u001b[0m\u001b[0m\n\u001b[0m",
            "\u001b[0;31mValueError\u001b[0m: operands could not be broadcast together with shapes (3,3) (3,4) "
          ]
        }
      ]
    }
  ]
}